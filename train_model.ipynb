{
 "cells": [
  {
   "cell_type": "markdown",
   "id": "382f2d6572b10767",
   "metadata": {},
   "source": [
    "# Personality Types Prediction\n",
    "## Import libraries\n",
    "- Resources: [Dataset](https://www.kaggle.com/api/v1/datasets/download/rakeshkapilavai/extrovert-vs-introvert-behavior-data)"
   ]
  },
  {
   "cell_type": "code",
   "id": "initial_id",
   "metadata": {
    "ExecuteTime": {
     "end_time": "2025-06-05T04:10:48.534080Z",
     "start_time": "2025-06-05T04:10:42.629619Z"
    }
   },
   "source": [
    "import tensorflow\n",
    "import numpy as np\n",
    "import pandas as pd\n",
    "from sklearn.model_selection import train_test_split\n",
    "from tensorflow import keras"
   ],
   "outputs": [],
   "execution_count": 2
  },
  {
   "cell_type": "markdown",
   "id": "752e4dcb1c14f382",
   "metadata": {},
   "source": [
    "## Data preprocessing"
   ]
  },
  {
   "cell_type": "code",
   "id": "9ff3a7d6f29f30d1",
   "metadata": {
    "ExecuteTime": {
     "end_time": "2025-06-05T04:10:48.546038Z",
     "start_time": "2025-06-05T04:10:48.541317Z"
    }
   },
   "source": [
    "df = pd.read_csv('datasets/personality_dataset.csv')"
   ],
   "outputs": [],
   "execution_count": 3
  },
  {
   "cell_type": "code",
   "id": "de27317b5ea64418",
   "metadata": {
    "ExecuteTime": {
     "end_time": "2025-06-05T04:10:48.559371Z",
     "start_time": "2025-06-05T04:10:48.555646Z"
    }
   },
   "source": [
    "# Normalize True / False to (1 or 0)\n",
    "normalize_column = ['Stage_fear','Drained_after_socializing']\n",
    "for col in normalize_column:\n",
    "    df[col] = df[col].map({'Yes': 1, 'No': 0})\n",
    "\n",
    "df['Personality'] = df['Personality'].map({'Introvert': 0, 'Extrovert': 1}).astype(int)"
   ],
   "outputs": [],
   "execution_count": 4
  },
  {
   "cell_type": "code",
   "id": "b1ee589d43d65af5",
   "metadata": {
    "ExecuteTime": {
     "end_time": "2025-06-05T04:10:48.586814Z",
     "start_time": "2025-06-05T04:10:48.584310Z"
    }
   },
   "source": [
    "#Check on null value on each column\n",
    "print(df.isnull().sum())\n"
   ],
   "outputs": [
    {
     "name": "stdout",
     "output_type": "stream",
     "text": [
      "Time_spent_Alone             63\n",
      "Stage_fear                   73\n",
      "Social_event_attendance      62\n",
      "Going_outside                66\n",
      "Drained_after_socializing    52\n",
      "Friends_circle_size          77\n",
      "Post_frequency               65\n",
      "Personality                   0\n",
      "dtype: int64\n"
     ]
    }
   ],
   "execution_count": 5
  },
  {
   "cell_type": "code",
   "id": "46e0f59a0df0ea2a",
   "metadata": {
    "ExecuteTime": {
     "end_time": "2025-06-05T04:10:48.612189Z",
     "start_time": "2025-06-05T04:10:48.609290Z"
    }
   },
   "source": [
    "# Drop rows with any nulls\n",
    "df.dropna(inplace=True)"
   ],
   "outputs": [],
   "execution_count": 6
  },
  {
   "cell_type": "code",
   "id": "5b3bbaac0190daa6",
   "metadata": {
    "ExecuteTime": {
     "end_time": "2025-06-05T04:10:48.623762Z",
     "start_time": "2025-06-05T04:10:48.620584Z"
    }
   },
   "source": [
    "# After clean\n",
    "df.isnull().sum()\n",
    "\n",
    "#Normalize data\n",
    "df['Time_spent_Alone'] = df['Time_spent_Alone'] / 24\n",
    "df['Social_event_attendance'] = df['Social_event_attendance'] / 10\n",
    "df['Going_outside'] = df['Going_outside'] / 10\n",
    "df['Post_frequency'] = df['Post_frequency'] / 10\n",
    "df['Friends_circle_size'] = df['Friends_circle_size'] / 15\n"
   ],
   "outputs": [],
   "execution_count": 7
  },
  {
   "cell_type": "markdown",
   "id": "213ba87fc6a318c5",
   "metadata": {},
   "source": [
    "### Prepare data for deep learning"
   ]
  },
  {
   "cell_type": "code",
   "id": "653ac8060cc71cae",
   "metadata": {
    "ExecuteTime": {
     "end_time": "2025-06-05T04:10:48.638154Z",
     "start_time": "2025-06-05T04:10:48.635568Z"
    }
   },
   "source": [
    "# X indicates input, Y indicates output\n",
    "X = df.drop('Personality', axis=1)\n",
    "y = df['Personality']"
   ],
   "outputs": [],
   "execution_count": 8
  },
  {
   "cell_type": "code",
   "id": "e542a68452c1d234",
   "metadata": {
    "ExecuteTime": {
     "end_time": "2025-06-05T04:10:48.651382Z",
     "start_time": "2025-06-05T04:10:48.647746Z"
    }
   },
   "source": [
    "X_train, X_val, y_train, y_val = train_test_split(X, y, test_size=0.3, random_state=45)"
   ],
   "outputs": [],
   "execution_count": 9
  },
  {
   "cell_type": "markdown",
   "id": "19c2f2fcb6879b97",
   "metadata": {},
   "source": [
    "# Define and Train Model"
   ]
  },
  {
   "cell_type": "code",
   "id": "dcc4ea67b326837d",
   "metadata": {
    "ExecuteTime": {
     "end_time": "2025-06-05T04:27:04.727031Z",
     "start_time": "2025-06-05T04:27:04.233922Z"
    }
   },
   "source": [
    "model = keras.Sequential([\n",
    "    keras.Input(shape=(7,)),\n",
    "    keras.layers.Dense(12, activation='relu'),\n",
    "    keras.layers.Dense(2, activation='softmax')\n",
    "])\n",
    "\n",
    "model.compile(optimizer='adam',\n",
    "              loss='sparse_categorical_crossentropy',\n",
    "              metrics=['accuracy'])\n",
    "\n",
    "history = model.fit(X_train, y_train, validation_data=(X_val, y_val), epochs=10, batch_size=32)"
   ],
   "outputs": [
    {
     "name": "stdout",
     "output_type": "stream",
     "text": [
      "Epoch 1/10\n",
      "55/55 [==============================] - 0s 1ms/step - loss: 0.5780 - accuracy: 0.7478 - val_loss: 0.5028 - val_accuracy: 0.9328\n",
      "Epoch 2/10\n",
      "55/55 [==============================] - 0s 530us/step - loss: 0.4659 - accuracy: 0.9221 - val_loss: 0.4099 - val_accuracy: 0.9328\n",
      "Epoch 3/10\n",
      "55/55 [==============================] - 0s 651us/step - loss: 0.3881 - accuracy: 0.9221 - val_loss: 0.3406 - val_accuracy: 0.9328\n",
      "Epoch 4/10\n",
      "55/55 [==============================] - 0s 533us/step - loss: 0.3362 - accuracy: 0.9221 - val_loss: 0.2988 - val_accuracy: 0.9328\n",
      "Epoch 5/10\n",
      "55/55 [==============================] - 0s 473us/step - loss: 0.3094 - accuracy: 0.9221 - val_loss: 0.2783 - val_accuracy: 0.9328\n",
      "Epoch 6/10\n",
      "55/55 [==============================] - 0s 443us/step - loss: 0.2975 - accuracy: 0.9221 - val_loss: 0.2698 - val_accuracy: 0.9328\n",
      "Epoch 7/10\n",
      "55/55 [==============================] - 0s 509us/step - loss: 0.2929 - accuracy: 0.9221 - val_loss: 0.2651 - val_accuracy: 0.9328\n",
      "Epoch 8/10\n",
      "55/55 [==============================] - 0s 596us/step - loss: 0.2907 - accuracy: 0.9221 - val_loss: 0.2633 - val_accuracy: 0.9328\n",
      "Epoch 9/10\n",
      "55/55 [==============================] - 0s 587us/step - loss: 0.2900 - accuracy: 0.9221 - val_loss: 0.2621 - val_accuracy: 0.9328\n",
      "Epoch 10/10\n",
      "55/55 [==============================] - 0s 500us/step - loss: 0.2897 - accuracy: 0.9221 - val_loss: 0.2613 - val_accuracy: 0.9328\n"
     ]
    }
   ],
   "execution_count": 18
  },
  {
   "cell_type": "markdown",
   "id": "e6b411ed813ae33",
   "metadata": {},
   "source": [
    "# Evaluate model"
   ]
  },
  {
   "metadata": {
    "ExecuteTime": {
     "end_time": "2025-06-05T04:27:09.930477Z",
     "start_time": "2025-06-05T04:27:09.878755Z"
    }
   },
   "cell_type": "code",
   "source": [
    "import matplotlib.pyplot as plt\n",
    "\n",
    "# Plot training loss\n",
    "plt.plot(history.history['loss'], label='Loss')\n",
    "\n",
    "# Plot training accuracy\n",
    "plt.plot(history.history['accuracy'], label='Accuracy')\n",
    "\n",
    "plt.title('Training Loss and Accuracy')\n",
    "plt.xlabel('Epoch')\n",
    "plt.ylabel('Value')\n",
    "plt.legend()\n",
    "plt.show()\n"
   ],
   "id": "bb40d4e51f22ce6a",
   "outputs": [
    {
     "data": {
      "text/plain": [
       "<Figure size 640x480 with 1 Axes>"
      ],
      "image/png": "[encoded data removed]"
     },
     "metadata": {},
     "output_type": "display_data"
    }
   ],
   "execution_count": 19
  },
  {
   "cell_type": "code",
   "id": "dd1868be827726d2",
   "metadata": {
    "ExecuteTime": {
     "end_time": "2025-06-05T04:27:15.967413Z",
     "start_time": "2025-06-05T04:27:15.930382Z"
    }
   },
   "source": [
    "# Evaluate model performance on validation set\n",
    "loss, accuracy = model.evaluate(X_val, y_val, verbose=0)\n",
    "print(f\"Validation Loss: {loss:.4f}\")\n",
    "print(f\"Validation Accuracy: {accuracy:.4f}\")"
   ],
   "outputs": [
    {
     "name": "stdout",
     "output_type": "stream",
     "text": [
      "Validation Loss: 0.2613\n",
      "Validation Accuracy: 0.9328\n"
     ]
    }
   ],
   "execution_count": 20
  },
  {
   "cell_type": "code",
   "id": "808466738beb3382",
   "metadata": {
    "ExecuteTime": {
     "end_time": "2025-06-05T04:10:49.262383Z",
     "start_time": "2025-06-05T04:10:49.172085Z"
    }
   },
   "source": [
    "import matplotlib.pyplot as plt\n",
    "import seaborn as sns\n",
    "from sklearn.metrics import confusion_matrix\n",
    "\n",
    "# Predict classes on validation data\n",
    "y_pred_probs = model.predict(X_val)\n",
    "y_pred = y_pred_probs.argmax(axis=1)  # for multi-class; for binary use (y_pred_probs > 0.5).astype(int)\n",
    "\n",
    "# Compute confusion matrix\n",
    "cm = confusion_matrix(y_val, y_pred)\n",
    "\n",
    "# Plot heatmap\n",
    "plt.figure(figsize=(6,5))\n",
    "sns.heatmap(cm, annot=True, fmt='d', cmap='Blues',xticklabels=[\"Introvert\",\"Extrovert\"] ,yticklabels=[\"Introvert\",\"Extrovert\"])\n",
    "plt.xlabel('Predicted')\n",
    "plt.ylabel('Actual')\n",
    "plt.title('Confusion Matrix')\n",
    "plt.show()\n"
   ],
   "outputs": [
    {
     "name": "stdout",
     "output_type": "stream",
     "text": [
      "24/24 [==============================] - 0s 222us/step\n"
     ]
    },
    {
     "data": {
      "text/plain": [
       "<Figure size 600x500 with 2 Axes>"
      ],
      "image/png": "[encoded data removed]"
     },
     "metadata": {},
     "output_type": "display_data"
    }
   ],
   "execution_count": 13
  },
  {
   "metadata": {
    "ExecuteTime": {
     "end_time": "2025-06-05T04:13:26.235538Z",
     "start_time": "2025-06-05T04:13:26.222149Z"
    }
   },
   "cell_type": "code",
   "source": [
    "from sklearn.metrics import classification_report\n",
    "\n",
    "#Generate classification report\n",
    "print(classification_report(y_val, y_pred, target_names=['Introvert', 'Extrovert']))"
   ],
   "id": "ecb5fba9f7abea79",
   "outputs": [
    {
     "name": "stdout",
     "output_type": "stream",
     "text": [
      "              precision    recall  f1-score   support\n",
      "\n",
      "   Introvert       0.92      0.94      0.93       352\n",
      "   Extrovert       0.95      0.92      0.94       392\n",
      "\n",
      "    accuracy                           0.93       744\n",
      "   macro avg       0.93      0.93      0.93       744\n",
      "weighted avg       0.93      0.93      0.93       744\n",
      "\n"
     ]
    }
   ],
   "execution_count": 16
  },
  {
   "cell_type": "markdown",
   "id": "f94ebecbe59a86a4",
   "metadata": {},
   "source": [
    "# Export model"
   ]
  },
  {
   "cell_type": "code",
   "id": "71334f39158701d7",
   "metadata": {
    "ExecuteTime": {
     "end_time": "2025-06-05T04:10:49.422901Z",
     "start_time": "2025-06-05T04:10:49.413395Z"
    }
   },
   "source": [
    "# Export model to local\n",
    "model.save('personality_model.h5')"
   ],
   "outputs": [],
   "execution_count": 15
  }
 ],
 "metadata": {
  "kernelspec": {
   "display_name": "Python 3",
   "language": "python",
   "name": "python3"
  },
  "language_info": {
   "codemirror_mode": {
    "name": "ipython",
    "version": 2
   },
   "file_extension": ".py",
   "mimetype": "text/x-python",
   "name": "python",
   "nbconvert_exporter": "python",
   "pygments_lexer": "ipython2",
   "version": "2.7.6"
  }
 },
 "nbformat": 4,
 "nbformat_minor": 5
}
